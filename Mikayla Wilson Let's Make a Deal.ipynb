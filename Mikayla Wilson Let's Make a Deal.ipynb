{
 "cells": [
  {
   "cell_type": "code",
   "execution_count": null,
   "metadata": {},
   "outputs": [],
   "source": [
    "import random\n",
    "import numpy as np"
   ]
  },
  {
   "cell_type": "code",
   "execution_count": 225,
   "metadata": {},
   "outputs": [
    {
     "name": "stdout",
     "output_type": "stream",
     "text": [
      "percentage if you switch doors: 66.54205607476635 %\n",
      "percentage if you stay: 29.89247311827957 %\n"
     ]
    }
   ],
   "source": [
    "#3 door case:\n",
    "\n",
    "wstay = 0\n",
    "wswitch = 0\n",
    "losses = 0\n",
    "staygame = 0\n",
    "switchgame = 0\n",
    "\n",
    "wstay_number = []\n",
    "wswitch_number = []\n",
    "losses_number = []\n",
    "staygame_number = []\n",
    "switchgame_number = []\n",
    "\n",
    "for i in range(1,1001):\n",
    "    threedoor=['a', 'b', 'c']\n",
    "    Prize_door = random.choice(threedoor)\n",
    "    Player_Guess = random.choice(threedoor)\n",
    "    \n",
    "    if (((Prize_door == 'a') | (Prize_door == 'b')) & ((Player_Guess == 'a') | (Player_Guess == 'b'))):\n",
    "        threedoor.remove('c')\n",
    "    elif (((Prize_door == 'b') | (Prize_door == 'c')) & ((Player_Guess == 'b') | (Player_Guess == 'c'))):\n",
    "        threedoor.remove('a')\n",
    "    elif (((Prize_door == 'c') | (Prize_door == 'a')) & ((Player_Guess == 'c') | (Player_Guess == 'a'))):\n",
    "        threedoor.remove('b')\n",
    "    else:\n",
    "        print(\"yeet\")\n",
    "        \n",
    "    options = ['switch', 'stay']\n",
    "    choice = random.choice(options)\n",
    "    point = 0\n",
    "    if (((Prize_door) == (Player_Guess)) & (choice == 'switch')):\n",
    "        point += 1\n",
    "        losses += point\n",
    "        switchgame += point\n",
    "    elif (((Prize_door) == (Player_Guess)) & (choice == 'stay')):\n",
    "        point += 1\n",
    "        wstay += point\n",
    "        staygame += point\n",
    "    elif (((Prize_door) != (Player_Guess)) & (choice == 'switch')):\n",
    "        point += 1\n",
    "        wswitch += point\n",
    "        switchgame += point\n",
    "    elif (((Prize_door) != (Player_Guess)) & (choice == 'stay')):\n",
    "        point += 1\n",
    "        losses += point\n",
    "        staygame += point\n",
    "    else:\n",
    "        print(\"err\")\n",
    "    \n",
    "    wstay_number.append(wstay)\n",
    "    wswitch_number.append(wswitch)\n",
    "    switchgame_number.append(switchgame)\n",
    "    staygame_number.append(staygame)\n",
    "    losses_number.append(losses)\n",
    "    \n",
    "print(\"percentage if you switch doors:\",((wswitch_number[-1])/(switchgame_number[-1]))*100, \"%\")\n",
    "print(\"percentage if you stay:\",((wstay_number[-1])/(staygame_number[-1]))*100 , \"%\")"
   ]
  },
  {
   "cell_type": "code",
   "execution_count": 231,
   "metadata": {},
   "outputs": [
    {
     "name": "stdout",
     "output_type": "stream",
     "text": [
      "percentage if you switch doors: 38.10444874274662 %\n",
      "percentage if you stay: 27.536231884057973 %\n"
     ]
    }
   ],
   "source": [
    "#4 door case:\n",
    "\n",
    "wstay4 = 0\n",
    "wswitch4 = 0\n",
    "losses4 = 0\n",
    "staygame4 = 0\n",
    "switchgame4 = 0\n",
    "\n",
    "wstay_number4 = []\n",
    "wswitch_number4 = []\n",
    "losses_number4 = []\n",
    "staygame_number4 = []\n",
    "switchgame_number4 = []\n",
    "\n",
    "for i in range(1,1001):\n",
    "    fourdoor=['a', 'b', 'c', 'd']\n",
    "    Prize_door4 = random.choice(fourdoor)\n",
    "    Player_Guess4 = random.choice(fourdoor)\n",
    "    switchfour = random.random()\n",
    "    \n",
    "    pointz = 0\n",
    "    if ((Prize_door4 == Player_Guess4) & (switchfour < 0.5)):\n",
    "        pointz += 1\n",
    "        switchgame4 += pointz\n",
    "    elif ((switchfour >=0.5) & (Prize_door4 == Player_Guess4)):\n",
    "        pointz += 1\n",
    "        wstay4 += pointz\n",
    "        staygame4 += pointz\n",
    "    elif ((switchfour >= 0.5)):\n",
    "        pointz += 1\n",
    "        staygame4 += pointz\n",
    "    elif ((switchfour < 0.5)):\n",
    "        if (random.random() < 0.5):\n",
    "            pointz += 1\n",
    "            switchgame4 += pointz\n",
    "            wswitch4 += pointz\n",
    "        else: \n",
    "            switchgame4 += 1\n",
    "    else:\n",
    "        print(\"err\")\n",
    "    \n",
    "    wstay_number4.append(wstay4)\n",
    "    wswitch_number4.append(wswitch4)\n",
    "    switchgame_number4.append(switchgame4)\n",
    "    staygame_number4.append(staygame4)\n",
    "    losses_number4.append(losses4)\n",
    "     \n",
    "print(\"percentage if you switch doors:\",((wswitch_number4[-1])/(switchgame_number4[-1]))*100, \"%\")\n",
    "print(\"percentage if you stay:\",((wstay_number4[-1])/(staygame_number4[-1]))*100 , \"%\")"
   ]
  },
  {
   "cell_type": "code",
   "execution_count": null,
   "metadata": {},
   "outputs": [],
   "source": []
  }
 ],
 "metadata": {
  "kernelspec": {
   "display_name": "Python 3",
   "language": "python",
   "name": "python3"
  },
  "language_info": {
   "codemirror_mode": {
    "name": "ipython",
    "version": 3
   },
   "file_extension": ".py",
   "mimetype": "text/x-python",
   "name": "python",
   "nbconvert_exporter": "python",
   "pygments_lexer": "ipython3",
   "version": "3.7.3"
  }
 },
 "nbformat": 4,
 "nbformat_minor": 2
}
